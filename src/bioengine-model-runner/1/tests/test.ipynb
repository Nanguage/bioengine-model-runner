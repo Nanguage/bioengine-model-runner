{
 "cells": [
  {
   "cell_type": "code",
   "execution_count": 2,
   "metadata": {},
   "outputs": [
    {
     "data": {
      "text/plain": [
       "<Task pending name='Task-31' coro=<_PackageManager.install() running at /lib/python3.9/site-packages/micropip/micropip.py:170>>"
      ]
     },
     "execution_count": 2,
     "metadata": {},
     "output_type": "execute_result"
    }
   ],
   "source": [
    "import micropip\n",
    "micropip.install(\"pyotritonclient\")"
   ]
  },
  {
   "cell_type": "code",
   "execution_count": null,
   "metadata": {},
   "outputs": [
    {
     "name": "stdout",
     "output_type": "stream",
     "text": [
      "Note: The browser might block insecure http connection, please use https if possible.\n"
     ]
    }
   ],
   "source": [
    "\n",
    "from pyotritonclient import execute\n",
    "import numpy as np\n",
    "\n",
    "image = np.random.randint(0, 255, size=(1, 1, 128, 128), dtype=np.uint8).astype(\n",
    "    \"float32\"\n",
    ")\n",
    "kwargs = {\"inputs\": [image], \"model_id\": \"10.5281/zenodo.5869899\", \"return_rdf\": True}\n",
    "ret = await execute(\n",
    "    [kwargs],\n",
    "    server_url=\"http://localhost:8000\",\n",
    "    model_name=\"bioengine-model-runner\", serialization=\"imjoy\"\n",
    ")\n",
    "result = ret[\"result\"]\n",
    "assert \"rdf\" in result\n",
    "assert result[\"success\"] == True, result[\"error\"]\n",
    "assert result[\"outputs\"][0].shape == (1, 2, 128, 128), str(\n",
    "    result[\"outputs\"][0].shape\n",
    ")\n",
    "print(\"Test passed\")"
   ]
  },
  {
   "cell_type": "code",
   "execution_count": null,
   "metadata": {},
   "outputs": [],
   "source": []
  }
 ],
 "metadata": {
  "interpreter": {
   "hash": "3da9690d67329b8621ac18da2c67511c94600f66c420611c4db5e2b1fb9b8a1a"
  },
  "kernelspec": {
   "display_name": "Python 3.8.12 64-bit ('bioimageio.core': conda)",
   "language": "python",
   "name": "python3"
  },
  "language_info": {
   "codemirror_mode": {
    "name": "ipython",
    "version": 3
   },
   "file_extension": ".py",
   "mimetype": "text/x-python",
   "name": "python",
   "nbconvert_exporter": "python",
   "pygments_lexer": "ipython3",
   "version": "3.9.5"
  },
  "orig_nbformat": 4
 },
 "nbformat": 4,
 "nbformat_minor": 2
}
